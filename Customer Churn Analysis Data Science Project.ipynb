{
 "cells": [
  {
   "cell_type": "markdown",
   "id": "156f7ef8",
   "metadata": {},
   "source": [
    "# Customer Churn Analysis"
   ]
  },
  {
   "cell_type": "markdown",
   "id": "c60cd2bf",
   "metadata": {},
   "source": [
    "Predicting customer churn holds significant importance for telecommunications companies, as it enables them to proactively retain their customer base. Retaining existing customers is more cost-effective than acquiring new ones, prompting major telecommunications firms to explore the development of predictive models that can identify customers at a higher risk of churning and implement targeted strategies to address the issue.\n",
    "\n",
    "In this project, we are going to deep dive into customer churn analysis and creating machine learning using python."
   ]
  },
  {
   "cell_type": "markdown",
   "id": "cfd7d27f",
   "metadata": {},
   "source": [
    "## Data Exploration"
   ]
  },
  {
   "cell_type": "markdown",
   "id": "5972b6b5",
   "metadata": {},
   "source": [
    "The data set used in this article is available in the Kaggle"
   ]
  },
  {
   "cell_type": "code",
   "execution_count": 1,
   "id": "873f23d7",
   "metadata": {},
   "outputs": [],
   "source": [
    "import numpy as np\n",
    "import pandas as pd\n",
    "import matplotlib.pyplot as plt\n",
    "import seaborn as sns\n",
    "sns.set()\n",
    "from sklearn.linear_model import LinearRegression"
   ]
  },
  {
   "cell_type": "code",
   "execution_count": 2,
   "id": "eeaa9fd4",
   "metadata": {},
   "outputs": [],
   "source": [
    "data = pd.read_csv('/Users/naufal/Documents/college thingz/MSIB/PROJECT 1/archive 2/Telco_customer_churn.csv')"
   ]
  },
  {
   "cell_type": "code",
   "execution_count": 3,
   "id": "e7eb782d",
   "metadata": {},
   "outputs": [
    {
     "data": {
      "text/plain": [
       "(7043, 33)"
      ]
     },
     "execution_count": 3,
     "metadata": {},
     "output_type": "execute_result"
    }
   ],
   "source": [
    "data.shape"
   ]
  },
  {
   "cell_type": "markdown",
   "id": "66575990",
   "metadata": {},
   "source": [
    "The data has 33 column and 7043 rows"
   ]
  },
  {
   "cell_type": "code",
   "execution_count": 4,
   "id": "5dd8d259",
   "metadata": {},
   "outputs": [
    {
     "data": {
      "text/plain": [
       "Index(['CustomerID', 'Count', 'Country', 'State', 'City', 'Zip Code',\n",
       "       'Lat Long', 'Latitude', 'Longitude', 'Gender', 'Senior Citizen',\n",
       "       'Partner', 'Dependents', 'Tenure Months', 'Phone Service',\n",
       "       'Multiple Lines', 'Internet Service', 'Online Security',\n",
       "       'Online Backup', 'Device Protection', 'Tech Support', 'Streaming TV',\n",
       "       'Streaming Movies', 'Contract', 'Paperless Billing', 'Payment Method',\n",
       "       'Monthly Charges', 'Total Charges', 'Churn Label', 'Churn Value',\n",
       "       'Churn Score', 'CLTV', 'Churn Reason'],\n",
       "      dtype='object')"
      ]
     },
     "execution_count": 4,
     "metadata": {},
     "output_type": "execute_result"
    }
   ],
   "source": [
    "data.columns"
   ]
  },
  {
   "cell_type": "markdown",
   "id": "73d533b4",
   "metadata": {},
   "source": [
    "Since we were analysing the churn, that mean churn feature is gonna be our dependent variable that we gonna analyzes and predict using another variable"
   ]
  },
  {
   "cell_type": "code",
   "execution_count": 5,
   "id": "b6ba0367",
   "metadata": {},
   "outputs": [
    {
     "data": {
      "text/html": [
       "<div>\n",
       "<style scoped>\n",
       "    .dataframe tbody tr th:only-of-type {\n",
       "        vertical-align: middle;\n",
       "    }\n",
       "\n",
       "    .dataframe tbody tr th {\n",
       "        vertical-align: top;\n",
       "    }\n",
       "\n",
       "    .dataframe thead th {\n",
       "        text-align: right;\n",
       "    }\n",
       "</style>\n",
       "<table border=\"1\" class=\"dataframe\">\n",
       "  <thead>\n",
       "    <tr style=\"text-align: right;\">\n",
       "      <th></th>\n",
       "      <th>CustomerID</th>\n",
       "      <th>Count</th>\n",
       "      <th>Country</th>\n",
       "      <th>State</th>\n",
       "      <th>City</th>\n",
       "      <th>Zip Code</th>\n",
       "      <th>Lat Long</th>\n",
       "      <th>Latitude</th>\n",
       "      <th>Longitude</th>\n",
       "      <th>Gender</th>\n",
       "      <th>...</th>\n",
       "      <th>Contract</th>\n",
       "      <th>Paperless Billing</th>\n",
       "      <th>Payment Method</th>\n",
       "      <th>Monthly Charges</th>\n",
       "      <th>Total Charges</th>\n",
       "      <th>Churn Label</th>\n",
       "      <th>Churn Value</th>\n",
       "      <th>Churn Score</th>\n",
       "      <th>CLTV</th>\n",
       "      <th>Churn Reason</th>\n",
       "    </tr>\n",
       "  </thead>\n",
       "  <tbody>\n",
       "    <tr>\n",
       "      <th>0</th>\n",
       "      <td>3668-QPYBK</td>\n",
       "      <td>1</td>\n",
       "      <td>United States</td>\n",
       "      <td>California</td>\n",
       "      <td>Los Angeles</td>\n",
       "      <td>90003</td>\n",
       "      <td>33.964131, -118.272783</td>\n",
       "      <td>33.964131</td>\n",
       "      <td>-118.272783</td>\n",
       "      <td>Male</td>\n",
       "      <td>...</td>\n",
       "      <td>Month-to-month</td>\n",
       "      <td>Yes</td>\n",
       "      <td>Mailed check</td>\n",
       "      <td>53.85</td>\n",
       "      <td>108.15</td>\n",
       "      <td>Yes</td>\n",
       "      <td>1</td>\n",
       "      <td>86</td>\n",
       "      <td>3239</td>\n",
       "      <td>Competitor made better offer</td>\n",
       "    </tr>\n",
       "    <tr>\n",
       "      <th>1</th>\n",
       "      <td>9237-HQITU</td>\n",
       "      <td>1</td>\n",
       "      <td>United States</td>\n",
       "      <td>California</td>\n",
       "      <td>Los Angeles</td>\n",
       "      <td>90005</td>\n",
       "      <td>34.059281, -118.30742</td>\n",
       "      <td>34.059281</td>\n",
       "      <td>-118.307420</td>\n",
       "      <td>Female</td>\n",
       "      <td>...</td>\n",
       "      <td>Month-to-month</td>\n",
       "      <td>Yes</td>\n",
       "      <td>Electronic check</td>\n",
       "      <td>70.70</td>\n",
       "      <td>151.65</td>\n",
       "      <td>Yes</td>\n",
       "      <td>1</td>\n",
       "      <td>67</td>\n",
       "      <td>2701</td>\n",
       "      <td>Moved</td>\n",
       "    </tr>\n",
       "    <tr>\n",
       "      <th>2</th>\n",
       "      <td>9305-CDSKC</td>\n",
       "      <td>1</td>\n",
       "      <td>United States</td>\n",
       "      <td>California</td>\n",
       "      <td>Los Angeles</td>\n",
       "      <td>90006</td>\n",
       "      <td>34.048013, -118.293953</td>\n",
       "      <td>34.048013</td>\n",
       "      <td>-118.293953</td>\n",
       "      <td>Female</td>\n",
       "      <td>...</td>\n",
       "      <td>Month-to-month</td>\n",
       "      <td>Yes</td>\n",
       "      <td>Electronic check</td>\n",
       "      <td>99.65</td>\n",
       "      <td>820.5</td>\n",
       "      <td>Yes</td>\n",
       "      <td>1</td>\n",
       "      <td>86</td>\n",
       "      <td>5372</td>\n",
       "      <td>Moved</td>\n",
       "    </tr>\n",
       "    <tr>\n",
       "      <th>3</th>\n",
       "      <td>7892-POOKP</td>\n",
       "      <td>1</td>\n",
       "      <td>United States</td>\n",
       "      <td>California</td>\n",
       "      <td>Los Angeles</td>\n",
       "      <td>90010</td>\n",
       "      <td>34.062125, -118.315709</td>\n",
       "      <td>34.062125</td>\n",
       "      <td>-118.315709</td>\n",
       "      <td>Female</td>\n",
       "      <td>...</td>\n",
       "      <td>Month-to-month</td>\n",
       "      <td>Yes</td>\n",
       "      <td>Electronic check</td>\n",
       "      <td>104.80</td>\n",
       "      <td>3046.05</td>\n",
       "      <td>Yes</td>\n",
       "      <td>1</td>\n",
       "      <td>84</td>\n",
       "      <td>5003</td>\n",
       "      <td>Moved</td>\n",
       "    </tr>\n",
       "    <tr>\n",
       "      <th>4</th>\n",
       "      <td>0280-XJGEX</td>\n",
       "      <td>1</td>\n",
       "      <td>United States</td>\n",
       "      <td>California</td>\n",
       "      <td>Los Angeles</td>\n",
       "      <td>90015</td>\n",
       "      <td>34.039224, -118.266293</td>\n",
       "      <td>34.039224</td>\n",
       "      <td>-118.266293</td>\n",
       "      <td>Male</td>\n",
       "      <td>...</td>\n",
       "      <td>Month-to-month</td>\n",
       "      <td>Yes</td>\n",
       "      <td>Bank transfer (automatic)</td>\n",
       "      <td>103.70</td>\n",
       "      <td>5036.3</td>\n",
       "      <td>Yes</td>\n",
       "      <td>1</td>\n",
       "      <td>89</td>\n",
       "      <td>5340</td>\n",
       "      <td>Competitor had better devices</td>\n",
       "    </tr>\n",
       "  </tbody>\n",
       "</table>\n",
       "<p>5 rows × 33 columns</p>\n",
       "</div>"
      ],
      "text/plain": [
       "   CustomerID  Count        Country       State         City  Zip Code  \\\n",
       "0  3668-QPYBK      1  United States  California  Los Angeles     90003   \n",
       "1  9237-HQITU      1  United States  California  Los Angeles     90005   \n",
       "2  9305-CDSKC      1  United States  California  Los Angeles     90006   \n",
       "3  7892-POOKP      1  United States  California  Los Angeles     90010   \n",
       "4  0280-XJGEX      1  United States  California  Los Angeles     90015   \n",
       "\n",
       "                 Lat Long   Latitude   Longitude  Gender  ...        Contract  \\\n",
       "0  33.964131, -118.272783  33.964131 -118.272783    Male  ...  Month-to-month   \n",
       "1   34.059281, -118.30742  34.059281 -118.307420  Female  ...  Month-to-month   \n",
       "2  34.048013, -118.293953  34.048013 -118.293953  Female  ...  Month-to-month   \n",
       "3  34.062125, -118.315709  34.062125 -118.315709  Female  ...  Month-to-month   \n",
       "4  34.039224, -118.266293  34.039224 -118.266293    Male  ...  Month-to-month   \n",
       "\n",
       "  Paperless Billing             Payment Method  Monthly Charges Total Charges  \\\n",
       "0               Yes               Mailed check            53.85        108.15   \n",
       "1               Yes           Electronic check            70.70        151.65   \n",
       "2               Yes           Electronic check            99.65         820.5   \n",
       "3               Yes           Electronic check           104.80       3046.05   \n",
       "4               Yes  Bank transfer (automatic)           103.70        5036.3   \n",
       "\n",
       "  Churn Label Churn Value Churn Score  CLTV                   Churn Reason  \n",
       "0         Yes           1          86  3239   Competitor made better offer  \n",
       "1         Yes           1          67  2701                          Moved  \n",
       "2         Yes           1          86  5372                          Moved  \n",
       "3         Yes           1          84  5003                          Moved  \n",
       "4         Yes           1          89  5340  Competitor had better devices  \n",
       "\n",
       "[5 rows x 33 columns]"
      ]
     },
     "execution_count": 5,
     "metadata": {},
     "output_type": "execute_result"
    }
   ],
   "source": [
    "data.head()"
   ]
  },
  {
   "cell_type": "code",
   "execution_count": 6,
   "id": "036ce0e1",
   "metadata": {},
   "outputs": [
    {
     "name": "stdout",
     "output_type": "stream",
     "text": [
      "<class 'pandas.core.frame.DataFrame'>\n",
      "RangeIndex: 7043 entries, 0 to 7042\n",
      "Data columns (total 33 columns):\n",
      " #   Column             Non-Null Count  Dtype  \n",
      "---  ------             --------------  -----  \n",
      " 0   CustomerID         7043 non-null   object \n",
      " 1   Count              7043 non-null   int64  \n",
      " 2   Country            7043 non-null   object \n",
      " 3   State              7043 non-null   object \n",
      " 4   City               7043 non-null   object \n",
      " 5   Zip Code           7043 non-null   int64  \n",
      " 6   Lat Long           7043 non-null   object \n",
      " 7   Latitude           7043 non-null   float64\n",
      " 8   Longitude          7043 non-null   float64\n",
      " 9   Gender             7043 non-null   object \n",
      " 10  Senior Citizen     7043 non-null   object \n",
      " 11  Partner            7043 non-null   object \n",
      " 12  Dependents         7043 non-null   object \n",
      " 13  Tenure Months      7043 non-null   int64  \n",
      " 14  Phone Service      7043 non-null   object \n",
      " 15  Multiple Lines     7043 non-null   object \n",
      " 16  Internet Service   7043 non-null   object \n",
      " 17  Online Security    7043 non-null   object \n",
      " 18  Online Backup      7043 non-null   object \n",
      " 19  Device Protection  7043 non-null   object \n",
      " 20  Tech Support       7043 non-null   object \n",
      " 21  Streaming TV       7043 non-null   object \n",
      " 22  Streaming Movies   7043 non-null   object \n",
      " 23  Contract           7043 non-null   object \n",
      " 24  Paperless Billing  7043 non-null   object \n",
      " 25  Payment Method     7043 non-null   object \n",
      " 26  Monthly Charges    7043 non-null   float64\n",
      " 27  Total Charges      7043 non-null   object \n",
      " 28  Churn Label        7043 non-null   object \n",
      " 29  Churn Value        7043 non-null   int64  \n",
      " 30  Churn Score        7043 non-null   int64  \n",
      " 31  CLTV               7043 non-null   int64  \n",
      " 32  Churn Reason       1869 non-null   object \n",
      "dtypes: float64(3), int64(6), object(24)\n",
      "memory usage: 1.8+ MB\n"
     ]
    }
   ],
   "source": [
    "data.info()"
   ]
  },
  {
   "cell_type": "markdown",
   "id": "fa1adc8b",
   "metadata": {},
   "source": [
    "This shows data type of each column. There are a anomalies that i found which is Total Charges having \"object\" as data type instead of float because based on the data.head() we see that Total Charges is numerical data. We'll fixed it up during data preprocessing"
   ]
  },
  {
   "cell_type": "code",
   "execution_count": 7,
   "id": "8966df88",
   "metadata": {},
   "outputs": [
    {
     "data": {
      "text/plain": [
       "CustomerID              0\n",
       "Count                   0\n",
       "Country                 0\n",
       "State                   0\n",
       "City                    0\n",
       "Zip Code                0\n",
       "Lat Long                0\n",
       "Latitude                0\n",
       "Longitude               0\n",
       "Gender                  0\n",
       "Senior Citizen          0\n",
       "Partner                 0\n",
       "Dependents              0\n",
       "Tenure Months           0\n",
       "Phone Service           0\n",
       "Multiple Lines          0\n",
       "Internet Service        0\n",
       "Online Security         0\n",
       "Online Backup           0\n",
       "Device Protection       0\n",
       "Tech Support            0\n",
       "Streaming TV            0\n",
       "Streaming Movies        0\n",
       "Contract                0\n",
       "Paperless Billing       0\n",
       "Payment Method          0\n",
       "Monthly Charges         0\n",
       "Total Charges           0\n",
       "Churn Label             0\n",
       "Churn Value             0\n",
       "Churn Score             0\n",
       "CLTV                    0\n",
       "Churn Reason         5174\n",
       "dtype: int64"
      ]
     },
     "execution_count": 7,
     "metadata": {},
     "output_type": "execute_result"
    }
   ],
   "source": [
    "data.isna().sum()"
   ]
  },
  {
   "cell_type": "markdown",
   "id": "129eb549",
   "metadata": {},
   "source": [
    "Here we're checking whether there is a missing value, which turns out there is some missing value in the \"Churn Reason\" that we'll take care of it in the data preparation"
   ]
  },
  {
   "cell_type": "markdown",
   "id": "9e601549",
   "metadata": {},
   "source": [
    "## Data Preparation\n",
    "#### A. Handiling missing value"
   ]
  },
  {
   "cell_type": "code",
   "execution_count": 8,
   "id": "d6582693",
   "metadata": {},
   "outputs": [],
   "source": [
    "data['Churn Reason'] = data['Churn Reason'].fillna(\"Non\")"
   ]
  },
  {
   "cell_type": "markdown",
   "id": "e0f4597c",
   "metadata": {},
   "source": [
    "Since if we take a look of the initial data, there are 2 types of customer which is the one who churn and not. So customer that not churning does not have any Churn Reason, so we could basically fill the missing value a.k.a the reason with \"NaN\" using Pandas fillna method (https://pandas.pydata.org/docs/user_guide/missing_data.html) "
   ]
  },
  {
   "cell_type": "code",
   "execution_count": 9,
   "id": "a97d3a3e",
   "metadata": {},
   "outputs": [
    {
     "name": "stdout",
     "output_type": "stream",
     "text": [
      "      CustomerID  Count        Country       State          City  Zip Code  \\\n",
      "0     3668-QPYBK      1  United States  California   Los Angeles     90003   \n",
      "1     9237-HQITU      1  United States  California   Los Angeles     90005   \n",
      "2     9305-CDSKC      1  United States  California   Los Angeles     90006   \n",
      "3     7892-POOKP      1  United States  California   Los Angeles     90010   \n",
      "4     0280-XJGEX      1  United States  California   Los Angeles     90015   \n",
      "...          ...    ...            ...         ...           ...       ...   \n",
      "7038  2569-WGERO      1  United States  California       Landers     92285   \n",
      "7039  6840-RESVB      1  United States  California      Adelanto     92301   \n",
      "7040  2234-XADUH      1  United States  California         Amboy     92304   \n",
      "7041  4801-JZAZL      1  United States  California  Angelus Oaks     92305   \n",
      "7042  3186-AJIEK      1  United States  California  Apple Valley     92308   \n",
      "\n",
      "                    Lat Long   Latitude   Longitude  Gender  ...  \\\n",
      "0     33.964131, -118.272783  33.964131 -118.272783    Male  ...   \n",
      "1      34.059281, -118.30742  34.059281 -118.307420  Female  ...   \n",
      "2     34.048013, -118.293953  34.048013 -118.293953  Female  ...   \n",
      "3     34.062125, -118.315709  34.062125 -118.315709  Female  ...   \n",
      "4     34.039224, -118.266293  34.039224 -118.266293    Male  ...   \n",
      "...                      ...        ...         ...     ...  ...   \n",
      "7038  34.341737, -116.539416  34.341737 -116.539416  Female  ...   \n",
      "7039  34.667815, -117.536183  34.667815 -117.536183    Male  ...   \n",
      "7040  34.559882, -115.637164  34.559882 -115.637164  Female  ...   \n",
      "7041     34.1678, -116.86433  34.167800 -116.864330  Female  ...   \n",
      "7042  34.424926, -117.184503  34.424926 -117.184503    Male  ...   \n",
      "\n",
      "            Contract Paperless Billing             Payment Method  \\\n",
      "0     Month-to-month               Yes               Mailed check   \n",
      "1     Month-to-month               Yes           Electronic check   \n",
      "2     Month-to-month               Yes           Electronic check   \n",
      "3     Month-to-month               Yes           Electronic check   \n",
      "4     Month-to-month               Yes  Bank transfer (automatic)   \n",
      "...              ...               ...                        ...   \n",
      "7038        Two year               Yes  Bank transfer (automatic)   \n",
      "7039        One year               Yes               Mailed check   \n",
      "7040        One year               Yes    Credit card (automatic)   \n",
      "7041  Month-to-month               Yes           Electronic check   \n",
      "7042        Two year               Yes  Bank transfer (automatic)   \n",
      "\n",
      "      Monthly Charges Total Charges Churn Label Churn Value Churn Score  CLTV  \\\n",
      "0               53.85        108.15         Yes           1          86  3239   \n",
      "1               70.70        151.65         Yes           1          67  2701   \n",
      "2               99.65         820.5         Yes           1          86  5372   \n",
      "3              104.80       3046.05         Yes           1          84  5003   \n",
      "4              103.70        5036.3         Yes           1          89  5340   \n",
      "...               ...           ...         ...         ...         ...   ...   \n",
      "7038            21.15        1419.4          No           0          45  5306   \n",
      "7039            84.80        1990.5          No           0          59  2140   \n",
      "7040           103.20        7362.9          No           0          71  5560   \n",
      "7041            29.60        346.45          No           0          59  2793   \n",
      "7042           105.65        6844.5          No           0          38  5097   \n",
      "\n",
      "                       Churn Reason  \n",
      "0      Competitor made better offer  \n",
      "1                             Moved  \n",
      "2                             Moved  \n",
      "3                             Moved  \n",
      "4     Competitor had better devices  \n",
      "...                             ...  \n",
      "7038                            Non  \n",
      "7039                            Non  \n",
      "7040                            Non  \n",
      "7041                            Non  \n",
      "7042                            Non  \n",
      "\n",
      "[7043 rows x 33 columns]\n"
     ]
    }
   ],
   "source": [
    "print(data)"
   ]
  },
  {
   "cell_type": "code",
   "execution_count": 10,
   "id": "e1ab30e8",
   "metadata": {},
   "outputs": [
    {
     "data": {
      "text/html": [
       "<div>\n",
       "<style scoped>\n",
       "    .dataframe tbody tr th:only-of-type {\n",
       "        vertical-align: middle;\n",
       "    }\n",
       "\n",
       "    .dataframe tbody tr th {\n",
       "        vertical-align: top;\n",
       "    }\n",
       "\n",
       "    .dataframe thead th {\n",
       "        text-align: right;\n",
       "    }\n",
       "</style>\n",
       "<table border=\"1\" class=\"dataframe\">\n",
       "  <thead>\n",
       "    <tr style=\"text-align: right;\">\n",
       "      <th></th>\n",
       "      <th>CustomerID</th>\n",
       "      <th>Count</th>\n",
       "      <th>Country</th>\n",
       "      <th>State</th>\n",
       "      <th>City</th>\n",
       "      <th>Zip Code</th>\n",
       "      <th>Lat Long</th>\n",
       "      <th>Latitude</th>\n",
       "      <th>Longitude</th>\n",
       "      <th>Gender</th>\n",
       "      <th>...</th>\n",
       "      <th>Contract</th>\n",
       "      <th>Paperless Billing</th>\n",
       "      <th>Payment Method</th>\n",
       "      <th>Monthly Charges</th>\n",
       "      <th>Total Charges</th>\n",
       "      <th>Churn Label</th>\n",
       "      <th>Churn Value</th>\n",
       "      <th>Churn Score</th>\n",
       "      <th>CLTV</th>\n",
       "      <th>Churn Reason</th>\n",
       "    </tr>\n",
       "  </thead>\n",
       "  <tbody>\n",
       "  </tbody>\n",
       "</table>\n",
       "<p>0 rows × 33 columns</p>\n",
       "</div>"
      ],
      "text/plain": [
       "Empty DataFrame\n",
       "Columns: [CustomerID, Count, Country, State, City, Zip Code, Lat Long, Latitude, Longitude, Gender, Senior Citizen, Partner, Dependents, Tenure Months, Phone Service, Multiple Lines, Internet Service, Online Security, Online Backup, Device Protection, Tech Support, Streaming TV, Streaming Movies, Contract, Paperless Billing, Payment Method, Monthly Charges, Total Charges, Churn Label, Churn Value, Churn Score, CLTV, Churn Reason]\n",
       "Index: []\n",
       "\n",
       "[0 rows x 33 columns]"
      ]
     },
     "execution_count": 10,
     "metadata": {},
     "output_type": "execute_result"
    }
   ],
   "source": [
    "data[data['Total Charges'].isnull()]"
   ]
  },
  {
   "cell_type": "code",
   "execution_count": null,
   "id": "c4a093d0",
   "metadata": {},
   "outputs": [],
   "source": []
  },
  {
   "cell_type": "code",
   "execution_count": 11,
   "id": "7724975b",
   "metadata": {},
   "outputs": [],
   "source": [
    "data.dropna(inplace=True)"
   ]
  },
  {
   "cell_type": "markdown",
   "id": "d0a3368e",
   "metadata": {},
   "source": [
    "Okay! now since the output from the checking missing value is 0 that means there is no column that has missing value anymore"
   ]
  },
  {
   "cell_type": "markdown",
   "id": "d20162d2",
   "metadata": {},
   "source": [
    "#### B. Handling wrong data types"
   ]
  },
  {
   "cell_type": "code",
   "execution_count": 12,
   "id": "84032e1d",
   "metadata": {},
   "outputs": [
    {
     "name": "stdout",
     "output_type": "stream",
     "text": [
      "<class 'pandas.core.frame.DataFrame'>\n",
      "RangeIndex: 7043 entries, 0 to 7042\n",
      "Data columns (total 33 columns):\n",
      " #   Column             Non-Null Count  Dtype  \n",
      "---  ------             --------------  -----  \n",
      " 0   CustomerID         7043 non-null   object \n",
      " 1   Count              7043 non-null   int64  \n",
      " 2   Country            7043 non-null   object \n",
      " 3   State              7043 non-null   object \n",
      " 4   City               7043 non-null   object \n",
      " 5   Zip Code           7043 non-null   int64  \n",
      " 6   Lat Long           7043 non-null   object \n",
      " 7   Latitude           7043 non-null   float64\n",
      " 8   Longitude          7043 non-null   float64\n",
      " 9   Gender             7043 non-null   object \n",
      " 10  Senior Citizen     7043 non-null   object \n",
      " 11  Partner            7043 non-null   object \n",
      " 12  Dependents         7043 non-null   object \n",
      " 13  Tenure Months      7043 non-null   int64  \n",
      " 14  Phone Service      7043 non-null   object \n",
      " 15  Multiple Lines     7043 non-null   object \n",
      " 16  Internet Service   7043 non-null   object \n",
      " 17  Online Security    7043 non-null   object \n",
      " 18  Online Backup      7043 non-null   object \n",
      " 19  Device Protection  7043 non-null   object \n",
      " 20  Tech Support       7043 non-null   object \n",
      " 21  Streaming TV       7043 non-null   object \n",
      " 22  Streaming Movies   7043 non-null   object \n",
      " 23  Contract           7043 non-null   object \n",
      " 24  Paperless Billing  7043 non-null   object \n",
      " 25  Payment Method     7043 non-null   object \n",
      " 26  Monthly Charges    7043 non-null   float64\n",
      " 27  Total Charges      7032 non-null   float64\n",
      " 28  Churn Label        7043 non-null   object \n",
      " 29  Churn Value        7043 non-null   int64  \n",
      " 30  Churn Score        7043 non-null   int64  \n",
      " 31  CLTV               7043 non-null   int64  \n",
      " 32  Churn Reason       7043 non-null   object \n",
      "dtypes: float64(4), int64(6), object(23)\n",
      "memory usage: 1.8+ MB\n"
     ]
    }
   ],
   "source": [
    "data['Total Charges'] = pd.to_numeric(data['Total Charges'], errors='coerce')\n",
    "data.info()"
   ]
  },
  {
   "cell_type": "code",
   "execution_count": null,
   "id": "93715259",
   "metadata": {},
   "outputs": [],
   "source": []
  },
  {
   "cell_type": "code",
   "execution_count": 13,
   "id": "981a6b1c",
   "metadata": {},
   "outputs": [
    {
     "name": "stdout",
     "output_type": "stream",
     "text": [
      "Column: CustomerID - Unique Values: ['3668-QPYBK' '9237-HQITU' '9305-CDSKC' ... '2234-XADUH' '4801-JZAZL'\n",
      " '3186-AJIEK']\n",
      "Column: Count - Unique Values: [1]\n",
      "Column: Country - Unique Values: ['United States']\n",
      "Column: State - Unique Values: ['California']\n",
      "Column: City - Unique Values: ['Los Angeles' 'Beverly Hills' 'Huntington Park' ... 'Standish' 'Tulelake'\n",
      " 'Olympic Valley']\n",
      "Column: Zip Code - Unique Values: [90003 90005 90006 ... 96128 96134 96146]\n",
      "Column: Lat Long - Unique Values: ['33.964131, -118.272783' '34.059281, -118.30742' '34.048013, -118.293953'\n",
      " ... '40.346634, -120.386422' '41.813521, -121.492666'\n",
      " '39.191797, -120.212401']\n",
      "Column: Latitude - Unique Values: [33.964131 34.059281 34.048013 ... 40.346634 41.813521 39.191797]\n",
      "Column: Longitude - Unique Values: [-118.272783 -118.30742  -118.293953 ... -120.386422 -121.492666\n",
      " -120.212401]\n",
      "Column: Gender - Unique Values: ['Male' 'Female']\n",
      "Column: Senior Citizen - Unique Values: ['No' 'Yes']\n",
      "Column: Partner - Unique Values: ['No' 'Yes']\n",
      "Column: Dependents - Unique Values: ['No' 'Yes']\n",
      "Column: Tenure Months - Unique Values: [ 2  8 28 49 10  1 47 17  5 34 11 15 18  9  7 12 25 68 55 37  3 27 20  4\n",
      " 58 53 13  6 19 59 16 52 24 32 38 54 43 63 21 69 22 61 60 48 40 23 39 35\n",
      " 56 65 33 30 45 46 62 70 50 44 71 26 14 41 66 64 29 42 67 51 31 57 36 72\n",
      "  0]\n",
      "Column: Phone Service - Unique Values: ['Yes' 'No']\n",
      "Column: Multiple Lines - Unique Values: ['No' 'Yes' 'No phone service']\n",
      "Column: Internet Service - Unique Values: ['DSL' 'Fiber optic' 'No']\n",
      "Column: Online Security - Unique Values: ['Yes' 'No' 'No internet service']\n",
      "Column: Online Backup - Unique Values: ['Yes' 'No' 'No internet service']\n",
      "Column: Device Protection - Unique Values: ['No' 'Yes' 'No internet service']\n",
      "Column: Tech Support - Unique Values: ['No' 'Yes' 'No internet service']\n",
      "Column: Streaming TV - Unique Values: ['No' 'Yes' 'No internet service']\n",
      "Column: Streaming Movies - Unique Values: ['No' 'Yes' 'No internet service']\n",
      "Column: Contract - Unique Values: ['Month-to-month' 'Two year' 'One year']\n",
      "Column: Paperless Billing - Unique Values: ['Yes' 'No']\n",
      "Column: Payment Method - Unique Values: ['Mailed check' 'Electronic check' 'Bank transfer (automatic)'\n",
      " 'Credit card (automatic)']\n",
      "Column: Monthly Charges - Unique Values: [ 53.85  70.7   99.65 ... 108.35  63.1   78.7 ]\n",
      "Column: Total Charges - Unique Values: [ 108.15  151.65  820.5  ... 7362.9   346.45 6844.5 ]\n",
      "Column: Churn Label - Unique Values: ['Yes' 'No']\n",
      "Column: Churn Value - Unique Values: [1 0]\n",
      "Column: Churn Score - Unique Values: [ 86  67  84  89  78 100  92  77  97  74  66  65  70  90  82  69  81  96\n",
      "  87  88  75  76  95  99  80  73  94  83  98  71  85  68  91  93  72  79\n",
      "  27  61  43  51  58  39  35  57  53  21  38  40  41  22  25  64  49  62\n",
      "  52  59  29  33  20  30  26  54  56  55  28  37   9  60  24  63  23  47\n",
      "  32   8  46  42  48  36  34   7  50  44  31   5  45]\n",
      "Column: CLTV - Unique Values: [3239 2701 5372 ... 2770 4645 5553]\n",
      "Column: Churn Reason - Unique Values: ['Competitor made better offer' 'Moved' 'Competitor had better devices'\n",
      " 'Competitor offered higher download speeds'\n",
      " 'Competitor offered more data' 'Price too high' 'Product dissatisfaction'\n",
      " 'Service dissatisfaction' 'Lack of self-service on Website'\n",
      " 'Network reliability' 'Limited range of services'\n",
      " 'Lack of affordable download/upload speed' 'Long distance charges'\n",
      " 'Extra data charges' \"Don't know\" 'Poor expertise of online support'\n",
      " 'Poor expertise of phone support' 'Attitude of service provider'\n",
      " 'Attitude of support person' 'Deceased' 'Non']\n"
     ]
    }
   ],
   "source": [
    "for column in data:\n",
    "    print('Column: {} - Unique Values: {}'.format(column, data[column].unique()))"
   ]
  },
  {
   "cell_type": "markdown",
   "id": "513cf3f0",
   "metadata": {},
   "source": [
    "### Step 5. Exploratory Data Analysis"
   ]
  },
  {
   "cell_type": "markdown",
   "id": "f65f50a4",
   "metadata": {},
   "source": [
    "#### A. Distribution of Target Analysis"
   ]
  },
  {
   "cell_type": "code",
   "execution_count": 14,
   "id": "31fb81f6",
   "metadata": {},
   "outputs": [
    {
     "data": {
      "image/png": "[encoded data removed]",
      "text/plain": [
       "<Figure size 640x480 with 1 Axes>"
      ]
     },
     "metadata": {},
     "output_type": "display_data"
    }
   ],
   "source": [
    "df = data\n",
    "sns.countplot(x ='Churn Label', data = df)\n",
    "plt.show()"
   ]
  },
  {
   "cell_type": "markdown",
   "id": "449dfb98",
   "metadata": {},
   "source": [
    "This shows that the distribution between the positive class (Yes) and negative class (No) is imbalence, which could lead in poor performing model. This might requires some upsampling or downsampling"
   ]
  },
  {
   "cell_type": "markdown",
   "id": "9dd2ab3e",
   "metadata": {},
   "source": [
    "#### B. Distribution of Independence Variable"
   ]
  },
  {
   "cell_type": "code",
   "execution_count": 15,
   "id": "d72029e9",
   "metadata": {},
   "outputs": [
    {
     "data": {
      "image/png": "[encoded data removed]",
      "text/plain": [
       "<Figure size 1200x700 with 6 Axes>"
      ]
     },
     "metadata": {},
     "output_type": "display_data"
    }
   ],
   "source": [
    "\n",
    "fig, axes = plt.subplots(2, 3, figsize=(12, 7), sharey=True) \n",
    "# This line of code is creating a subplot grid for multiple plots using the subplots function from Matplotlib.\n",
    "sns.countplot(x=\"Gender\", data=df, ax=axes[0, 0])\n",
    "sns.countplot(x=\"Senior Citizen\", data=df, ax=axes[0, 1])\n",
    "sns.countplot(x=\"Partner\", data=df, ax=axes[0, 2])\n",
    "sns.countplot(x=\"Paperless Billing\", data=df, ax=axes[1, 0])\n",
    "sns.countplot(x=\"Dependents\", data=df, ax=axes[1, 1])\n",
    "sns.countplot(x=\"Phone Service\", data=df, ax=axes[1, 2])\n",
    "\n",
    "plt.show()"
   ]
  },
  {
   "cell_type": "markdown",
   "id": "c8b40f9b",
   "metadata": {},
   "source": [
    "There's a high imbalance in Senior Citizen, Dependents, and Phone services"
   ]
  },
  {
   "cell_type": "code",
   "execution_count": 16,
   "id": "240235af",
   "metadata": {},
   "outputs": [
    {
     "data": {
      "text/plain": [
       "<Axes: xlabel='Internet Service', ylabel='count'>"
      ]
     },
     "execution_count": 16,
     "metadata": {},
     "output_type": "execute_result"
    },
    {
     "data": {
      "image/png": "[encoded data removed]",
      "text/plain": [
       "<Figure size 640x480 with 1 Axes>"
      ]
     },
     "metadata": {},
     "output_type": "display_data"
    }
   ],
   "source": [
    "sns.countplot(x=\"Internet Service\", data = df)"
   ]
  },
  {
   "cell_type": "markdown",
   "id": "75c94a2d",
   "metadata": {},
   "source": [
    "Its seems that Majority of customer use fiber optic internet service and some other use DSL but there's still who havent got the internet service"
   ]
  },
  {
   "cell_type": "code",
   "execution_count": 17,
   "id": "fc5288b2",
   "metadata": {},
   "outputs": [
    {
     "data": {
      "text/plain": [
       "<Axes: xlabel='Online Security', ylabel='count'>"
      ]
     },
     "execution_count": 17,
     "metadata": {},
     "output_type": "execute_result"
    },
    {
     "data": {
      "image/png": "[encoded data removed]",
      "text/plain": [
       "<Figure size 1200x700 with 6 Axes>"
      ]
     },
     "metadata": {},
     "output_type": "display_data"
    }
   ],
   "source": [
    "fig, axes = plt.subplots(2, 3, figsize=(12, 7), sharey=True) \n",
    "# This line of code is creating a subplot grid for multiple plots using the subplots function from Matplotlib.\n",
    "sns.countplot(x=\"Online Backup\", data=df, ax=axes[0, 0])\n",
    "sns.countplot(x=\"Device Protection\", data=df, ax=axes[0, 1])\n",
    "sns.countplot(x=\"Tech Support\", data=df, ax=axes[0, 2])\n",
    "sns.countplot(x=\"Streaming TV\", data=df, ax=axes[1, 0])\n",
    "sns.countplot(x=\"Streaming Movies\", data=df, ax=axes[1, 1])\n",
    "sns.countplot(x=\"Online Security\", data=df, ax=axes[1, 2])"
   ]
  },
  {
   "cell_type": "markdown",
   "id": "20cffe2c",
   "metadata": {},
   "source": [
    "There's a commonality between these variable, which is \"No Internet Services\" meaning that when selecting features for machine learning model or analyzing the data, it's essential to recognize that these 6 features are meaningful only for customers who have internet service. For customers without internet service, these features are irrelevant because they are automatically categorized as no Internet service rather than got categorized to yes or no."
   ]
  },
  {
   "cell_type": "code",
   "execution_count": 18,
   "id": "8de2c8ed",
   "metadata": {},
   "outputs": [
    {
     "data": {
      "text/plain": [
       "<Axes: xlabel='Payment Method', ylabel='count'>"
      ]
     },
     "execution_count": 18,
     "metadata": {},
     "output_type": "execute_result"
    },
    {
     "data": {
      "image/png": "[encoded data removed]",
      "text/plain": [
       "<Figure size 1200x700 with 2 Axes>"
      ]
     },
     "metadata": {},
     "output_type": "display_data"
    }
   ],
   "source": [
    "fig, axes = plt.subplots(1, 2, figsize=(12, 7), sharey=True) \n",
    "sns.countplot(x=\"Contract\", data=df, ax=axes[0])\n",
    "sns.countplot(x=\"Payment Method\", data=df, ax=axes[1])"
   ]
  },
  {
   "cell_type": "markdown",
   "id": "9aa0c8d1",
   "metadata": {},
   "source": [
    "Most of the customer seems to choose month-to-month contract and majority seems to use electronic check as a payment mentods"
   ]
  },
  {
   "cell_type": "code",
   "execution_count": 19,
   "id": "d6c488b8",
   "metadata": {},
   "outputs": [
    {
     "data": {
      "text/plain": [
       "<Axes: xlabel='Monthly Charges', ylabel='Count'>"
      ]
     },
     "execution_count": 19,
     "metadata": {},
     "output_type": "execute_result"
    },
    {
     "data": {
      "image/png": "[encoded data removed]",
      "text/plain": [
       "<Figure size 1200x700 with 2 Axes>"
      ]
     },
     "metadata": {},
     "output_type": "display_data"
    }
   ],
   "source": [
    "fig, axes = plt.subplots(1,2, figsize=(12, 7))\n",
    "sns.histplot(df[\"Tenure Months\"], ax=axes[0])\n",
    "sns.histplot(df[\"Monthly Charges\"], ax=axes[1])"
   ]
  },
  {
   "cell_type": "markdown",
   "id": "7112c4dd",
   "metadata": {},
   "source": [
    "as Tenure in Months indicates the total amount of months that the customer has been with the company by the end of the quarter it seems that the customer loyalty is pretty high and there's also a surge of newcomers customer meaning that the company past program succeed to attract new customer and still could mantain the customer loyalty.\n",
    "\n",
    "Monthly Charge Indicates the customer’s current total monthly charge for all their services from the company and most of the customer charges were the most low charges meaning that the company probably offers a good monthly deals and a reasonable price for their products."
   ]
  },
  {
   "cell_type": "code",
   "execution_count": 20,
   "id": "5a2c5ad4",
   "metadata": {},
   "outputs": [],
   "source": [
    "data.drop(columns='CustomerID', inplace=True)\n",
    "data.drop(columns='Country', inplace=True)\n",
    "data.drop(columns='State', inplace=True)\n",
    "data.drop(columns='City', inplace=True)\n",
    "data.drop(columns='Zip Code', inplace=True)\n",
    "data.drop(columns='Latitude', inplace=True)\n",
    "data.drop(columns='Longitude', inplace=True)\n",
    "data.drop(columns='Lat Long', inplace=True)\n",
    "data.drop(columns='Churn Reason', inplace=True)\n",
    "data.drop(columns='Count', inplace=True)\n",
    "data.drop(columns='Senior Citizen', inplace=True)\n",
    "data.dropna(inplace=True)"
   ]
  },
  {
   "cell_type": "markdown",
   "id": "54fc49e3",
   "metadata": {},
   "source": [
    "### Feature importance"
   ]
  },
  {
   "cell_type": "code",
   "execution_count": 21,
   "id": "f60b05d5",
   "metadata": {},
   "outputs": [],
   "source": [
    "from sklearn.metrics import mutual_info_score\n",
    "# Function that computes the mutual information score between a categorical series and the column 'Churn Label'\n",
    "def compute_mutual_information(categorical_series):\n",
    "    return mutual_info_score(categorical_series, data['Churn Label'])"
   ]
  },
  {
   "cell_type": "code",
   "execution_count": 22,
   "id": "7ad25a05",
   "metadata": {},
   "outputs": [],
   "source": [
    "# Select categorical variables excluding the response variable \n",
    "categorical_variables = data.select_dtypes(include=object).drop(['Churn Label'], axis=1)"
   ]
  },
  {
   "cell_type": "code",
   "execution_count": 23,
   "id": "08b156d7",
   "metadata": {},
   "outputs": [],
   "source": [
    "# Compute the mutual information score between each categorical variable and the target\n",
    "feature_importance = categorical_variables.apply(compute_mutual_information).sort_values(ascending=False)"
   ]
  },
  {
   "cell_type": "code",
   "execution_count": 24,
   "id": "3efa5b47",
   "metadata": {},
   "outputs": [
    {
     "name": "stdout",
     "output_type": "stream",
     "text": [
      "Contract             0.098182\n",
      "Online Security      0.064528\n",
      "Tech Support         0.062873\n",
      "Internet Service     0.055394\n",
      "Online Backup        0.046659\n",
      "Payment Method       0.044423\n",
      "Device Protection    0.043784\n",
      "Dependents           0.037613\n",
      "Streaming Movies     0.031918\n",
      "Streaming TV         0.031803\n",
      "Paperless Billing    0.019119\n",
      "Partner              0.011383\n",
      "Multiple Lines       0.000798\n",
      "Phone Service        0.000069\n",
      "Gender               0.000037\n",
      "dtype: float64\n"
     ]
    }
   ],
   "source": [
    "# visualize feature importance\n",
    "print(feature_importance)"
   ]
  },
  {
   "cell_type": "markdown",
   "id": "772c04ca",
   "metadata": {},
   "source": [
    "Mutual information measures the mutual dependency between two variables based on entropy estimations. Mutual information allows us not only to better understand our data but also to identify the predictor variables that are completely independent of the target.\n",
    "\n",
    "As shown above, gender, Phone Service, Country, state, and MultipleLines have a mutual information score really close to 0, meaning those variables do not have a strong relationship with the target."
   ]
  },
  {
   "cell_type": "markdown",
   "id": "3f12df3a",
   "metadata": {},
   "source": [
    "### Feature Engineering"
   ]
  },
  {
   "cell_type": "markdown",
   "id": "77bfe69b",
   "metadata": {},
   "source": [
    "Feature engineering is the process of extracting features from the data and transforming them into a format that is suitable for the machine learning model."
   ]
  },
  {
   "cell_type": "code",
   "execution_count": 25,
   "id": "6ec309a6",
   "metadata": {},
   "outputs": [],
   "source": [
    "df_telco_transformed = data.copy()"
   ]
  },
  {
   "cell_type": "code",
   "execution_count": 26,
   "id": "f33ee22e",
   "metadata": {},
   "outputs": [],
   "source": [
    "# label encoding (binary variables)\n",
    "label_encoding_columns = ['Gender', 'Partner', 'Dependents', 'Paperless Billing', 'Phone Service', 'Churn Label', ]"
   ]
  },
  {
   "cell_type": "code",
   "execution_count": 27,
   "id": "f8490234",
   "metadata": {},
   "outputs": [],
   "source": [
    "# encode categorical binary features using label encoding\n",
    "for column in label_encoding_columns:\n",
    "    if column == 'Gender':\n",
    "        df_telco_transformed[column] = df_telco_transformed[column].map({'Female': 1, 'Male': 0})\n",
    "    else: \n",
    "        df_telco_transformed[column] = df_telco_transformed[column].map({'Yes': 1, 'No': 0}) "
   ]
  },
  {
   "cell_type": "markdown",
   "id": "9c9fdb05",
   "metadata": {},
   "source": [
    "### One-Hot Encoding"
   ]
  },
  {
   "cell_type": "markdown",
   "id": "326c4fcc",
   "metadata": {},
   "source": [
    "One-hot encoding creates a new binary column for each level of the categorical variable. The new column contains zeros and ones indicating the absence or presence of the category in the data."
   ]
  },
  {
   "cell_type": "code",
   "execution_count": 28,
   "id": "d755a8a9",
   "metadata": {},
   "outputs": [],
   "source": [
    "# one-hot encoding (categorical variables with more than two levels)\n",
    "one_hot_encoding_columns = ['Multiple Lines', 'Internet Service', 'Online Security', 'Online Backup', 'Device Protection', \n",
    "                            'Tech Support', 'Streaming TV',  'Streaming Movies', 'Contract', 'Payment Method']"
   ]
  },
  {
   "cell_type": "code",
   "execution_count": 29,
   "id": "82ecf9ce",
   "metadata": {},
   "outputs": [],
   "source": [
    "# encode categorical variables with more than two levels using one-hot encoding\n",
    "df_telco_transformed = pd.get_dummies(df_telco_transformed, columns=one_hot_encoding_columns)"
   ]
  },
  {
   "cell_type": "code",
   "execution_count": null,
   "id": "c67cd43f",
   "metadata": {},
   "outputs": [],
   "source": []
  },
  {
   "cell_type": "markdown",
   "id": "bcfc3976",
   "metadata": {},
   "source": [
    "### Normalization"
   ]
  },
  {
   "cell_type": "markdown",
   "id": "38739598",
   "metadata": {},
   "source": [
    "Data normalization transforms multiscaled data to the same scale. After normalization, all variables have a similar influence on the model, improving the stability and performance of the learning algorithm."
   ]
  },
  {
   "cell_type": "code",
   "execution_count": 30,
   "id": "bbde435f",
   "metadata": {},
   "outputs": [],
   "source": [
    "# min-max normalization (numeric variables)\n",
    "min_max_columns = ['Tenure Months', 'Monthly Charges', 'Total Charges']"
   ]
  },
  {
   "cell_type": "code",
   "execution_count": 31,
   "id": "c53cc3f2",
   "metadata": {},
   "outputs": [],
   "source": [
    "# scale numerical variables using min max scaler\n",
    "for column in min_max_columns:\n",
    "        # minimum value of the column\n",
    "        min_column = df_telco_transformed[column].min()\n",
    "        # maximum value of the column\n",
    "        max_column = df_telco_transformed[column].max()\n",
    "        # min max scaler\n",
    "        df_telco_transformed[column] = (df_telco_transformed[column] - min_column) / (max_column - min_column)   "
   ]
  },
  {
   "cell_type": "markdown",
   "id": "fc5a6427",
   "metadata": {},
   "source": [
    "### Splitting the data in training and testing sets"
   ]
  },
  {
   "cell_type": "markdown",
   "id": "f1504b9a",
   "metadata": {},
   "source": [
    "The first step when building a model is to split the data into two groups, which are typically referred to as training and testing sets. "
   ]
  },
  {
   "cell_type": "code",
   "execution_count": 32,
   "id": "f33b422f",
   "metadata": {},
   "outputs": [
    {
     "name": "stdout",
     "output_type": "stream",
     "text": [
      "Index(['Gender', 'Partner', 'Dependents', 'Tenure Months', 'Phone Service',\n",
      "       'Paperless Billing', 'Monthly Charges', 'Total Charges', 'Churn Value',\n",
      "       'Churn Score', 'CLTV', 'Multiple Lines_No',\n",
      "       'Multiple Lines_No phone service', 'Multiple Lines_Yes',\n",
      "       'Internet Service_DSL', 'Internet Service_Fiber optic',\n",
      "       'Internet Service_No', 'Online Security_No',\n",
      "       'Online Security_No internet service', 'Online Security_Yes',\n",
      "       'Online Backup_No', 'Online Backup_No internet service',\n",
      "       'Online Backup_Yes', 'Device Protection_No',\n",
      "       'Device Protection_No internet service', 'Device Protection_Yes',\n",
      "       'Tech Support_No', 'Tech Support_No internet service',\n",
      "       'Tech Support_Yes', 'Streaming TV_No',\n",
      "       'Streaming TV_No internet service', 'Streaming TV_Yes',\n",
      "       'Streaming Movies_No', 'Streaming Movies_No internet service',\n",
      "       'Streaming Movies_Yes', 'Contract_Month-to-month', 'Contract_One year',\n",
      "       'Contract_Two year', 'Payment Method_Bank transfer (automatic)',\n",
      "       'Payment Method_Credit card (automatic)',\n",
      "       'Payment Method_Electronic check', 'Payment Method_Mailed check'],\n",
      "      dtype='object')\n",
      "Churn Label\n"
     ]
    }
   ],
   "source": [
    "# select independent variables\n",
    "X = df_telco_transformed.drop(columns='Churn Label')\n",
    "\n",
    "# select dependent variables\n",
    "y = df_telco_transformed.loc[:, 'Churn Label']\n",
    "# prove that the variables were selected correctly\n",
    "print(X.columns)\n",
    "\n",
    "# prove that the variables were selected correctly\n",
    "print(y.name)"
   ]
  },
  {
   "cell_type": "code",
   "execution_count": 33,
   "id": "c377751c",
   "metadata": {},
   "outputs": [],
   "source": [
    "# split the data in training and testing sets\n",
    "from sklearn.model_selection import train_test_split"
   ]
  },
  {
   "cell_type": "code",
   "execution_count": 34,
   "id": "0ddb884b",
   "metadata": {},
   "outputs": [],
   "source": [
    "X_train, X_test, y_train, y_test = train_test_split(X, y, test_size=0.25, random_state=40, shuffle=True)"
   ]
  },
  {
   "cell_type": "markdown",
   "id": "e046f168",
   "metadata": {},
   "source": [
    "### Assessing multiple algorithms"
   ]
  },
  {
   "cell_type": "code",
   "execution_count": 35,
   "id": "641a3697",
   "metadata": {},
   "outputs": [],
   "source": [
    "from sklearn.metrics import accuracy_score\n",
    "from sklearn.dummy import DummyClassifier\n",
    "from sklearn.neighbors import KNeighborsClassifier\n",
    "from sklearn.linear_model import LogisticRegression\n",
    "from sklearn.svm import SVC\n",
    "from sklearn.ensemble import RandomForestClassifier, GradientBoostingClassifier"
   ]
  },
  {
   "cell_type": "code",
   "execution_count": 36,
   "id": "e071e648",
   "metadata": {},
   "outputs": [],
   "source": [
    "def create_models(seed=2):\n",
    "    '''\n",
    "    Create a list of machine learning models.\n",
    "            Parameters:\n",
    "                    seed (integer): random seed of the models\n",
    "            Returns:\n",
    "                    models (list): list containing the models\n",
    "    '''\n",
    "\n",
    "    models = []\n",
    "    models.append(('dummy_classifier', DummyClassifier(random_state=seed, strategy='most_frequent')))\n",
    "    models.append(('k_nearest_neighbors', KNeighborsClassifier()))\n",
    "    models.append(('logistic_regression', LogisticRegression(random_state=seed)))\n",
    "    models.append(('support_vector_machines', SVC(random_state=seed)))\n",
    "    models.append(('random_forest', RandomForestClassifier(random_state=seed)))\n",
    "    models.append(('gradient_boosting', GradientBoostingClassifier(random_state=seed)))\n",
    "    \n",
    "    return models"
   ]
  },
  {
   "cell_type": "code",
   "execution_count": 37,
   "id": "f0d7d69a",
   "metadata": {},
   "outputs": [],
   "source": [
    "# create a list with all the algorithms we are going to assess\n",
    "models = create_models()"
   ]
  },
  {
   "cell_type": "code",
   "execution_count": 38,
   "id": "0fe6810d",
   "metadata": {},
   "outputs": [
    {
     "name": "stdout",
     "output_type": "stream",
     "text": [
      "Classifier: dummy_classifier, Accuracy: 0.7468714448236633)\n",
      "Classifier: k_nearest_neighbors, Accuracy: 0.8555176336746303)\n",
      "Classifier: logistic_regression, Accuracy: 1.0)\n"
     ]
    },
    {
     "name": "stderr",
     "output_type": "stream",
     "text": [
      "/Users/naufal/anaconda3/lib/python3.10/site-packages/sklearn/linear_model/_logistic.py:458: ConvergenceWarning: lbfgs failed to converge (status=1):\n",
      "STOP: TOTAL NO. of ITERATIONS REACHED LIMIT.\n",
      "\n",
      "Increase the number of iterations (max_iter) or scale the data as shown in:\n",
      "    https://scikit-learn.org/stable/modules/preprocessing.html\n",
      "Please also refer to the documentation for alternative solver options:\n",
      "    https://scikit-learn.org/stable/modules/linear_model.html#logistic-regression\n",
      "  n_iter_i = _check_optimize_result(\n"
     ]
    },
    {
     "name": "stdout",
     "output_type": "stream",
     "text": [
      "Classifier: support_vector_machines, Accuracy: 0.7468714448236633)\n",
      "Classifier: random_forest, Accuracy: 1.0)\n",
      "Classifier: gradient_boosting, Accuracy: 1.0)\n"
     ]
    }
   ],
   "source": [
    "# test the accuracy of each model using default hyperparameters\n",
    "results = []\n",
    "names = []\n",
    "scoring = 'accuracy'\n",
    "for name, model in models:\n",
    "    # fit the model with the training data\n",
    "    model.fit(X_train, y_train).predict(X_test)\n",
    "    # make predictions with the testing data\n",
    "    predictions = model.predict(X_test)\n",
    "    # calculate accuracy \n",
    "    accuracy = accuracy_score(y_test, predictions)\n",
    "    # append the model name and the accuracy to the lists\n",
    "    results.append(accuracy)\n",
    "    names.append(name)\n",
    "    # print classifier accuracy\n",
    "    print('Classifier: {}, Accuracy: {})'.format(name, accuracy))"
   ]
  }
 ],
 "metadata": {
  "kernelspec": {
   "display_name": "Python 3 (ipykernel)",
   "language": "python",
   "name": "python3"
  },
  "language_info": {
   "codemirror_mode": {
    "name": "ipython",
    "version": 3
   },
   "file_extension": ".py",
   "mimetype": "text/x-python",
   "name": "python",
   "nbconvert_exporter": "python",
   "pygments_lexer": "ipython3",
   "version": "3.10.9"
  }
 },
 "nbformat": 4,
 "nbformat_minor": 5
}
